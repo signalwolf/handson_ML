{
 "cells": [
  {
   "cell_type": "code",
   "execution_count": 2,
   "metadata": {},
   "outputs": [],
   "source": [
    "# To support both python 2 and python 3\n",
    "from __future__ import division, print_function, unicode_literals\n",
    "\n",
    "# Common imports\n",
    "import numpy as np\n",
    "import os\n",
    "\n",
    "# to make this notebook's output stable across runs\n",
    "def reset_graph(seed=42):\n",
    "    tf.reset_default_graph()\n",
    "    tf.set_random_seed(seed)\n",
    "    np.random.seed(seed)\n",
    "\n",
    "# To plot pretty figures\n",
    "%matplotlib inline\n",
    "import matplotlib\n",
    "import matplotlib.pyplot as plt\n",
    "plt.rcParams['axes.labelsize'] = 14\n",
    "plt.rcParams['xtick.labelsize'] = 12\n",
    "plt.rcParams['ytick.labelsize'] = 12\n",
    "\n",
    "# Where to save the figures\n",
    "PROJECT_ROOT_DIR = \".\"\n",
    "CHAPTER_ID = \"cnn\"\n",
    "\n",
    "def save_fig(fig_id, tight_layout=True):\n",
    "    path = os.path.join(PROJECT_ROOT_DIR, \"images\", CHAPTER_ID, fig_id + \".png\")\n",
    "    print(\"Saving figure\", fig_id)\n",
    "    if tight_layout:\n",
    "        plt.tight_layout()\n",
    "    plt.savefig(path, format='png', dpi=300)"
   ]
  },
  {
   "cell_type": "code",
   "execution_count": 3,
   "metadata": {},
   "outputs": [],
   "source": [
    "def plot_image(image):\n",
    "    plt.imshow(image, cmap=\"gray\", interpolation=\"nearest\")\n",
    "    plt.axis(\"off\")\n",
    "\n",
    "def plot_color_image(image):\n",
    "    plt.imshow(image.astype(np.uint8),interpolation=\"nearest\")\n",
    "    plt.axis(\"off\")\n",
    "\n",
    "import tensorflow as tf"
   ]
  },
  {
   "cell_type": "code",
   "execution_count": 4,
   "metadata": {},
   "outputs": [
    {
     "name": "stdout",
     "output_type": "stream",
     "text": [
      "WARNING:tensorflow:From <ipython-input-4-c50d5bb4a85c>:2: read_data_sets (from tensorflow.contrib.learn.python.learn.datasets.mnist) is deprecated and will be removed in a future version.\n",
      "Instructions for updating:\n",
      "Please use alternatives such as official/mnist/dataset.py from tensorflow/models.\n",
      "WARNING:tensorflow:From C:\\Users\\asiaynrf\\AppData\\Local\\Continuum\\anaconda2\\envs\\tensorflow3\\lib\\site-packages\\tensorflow\\contrib\\learn\\python\\learn\\datasets\\mnist.py:260: maybe_download (from tensorflow.contrib.learn.python.learn.datasets.base) is deprecated and will be removed in a future version.\n",
      "Instructions for updating:\n",
      "Please write your own downloading logic.\n",
      "WARNING:tensorflow:From C:\\Users\\asiaynrf\\AppData\\Local\\Continuum\\anaconda2\\envs\\tensorflow3\\lib\\site-packages\\tensorflow\\contrib\\learn\\python\\learn\\datasets\\mnist.py:262: extract_images (from tensorflow.contrib.learn.python.learn.datasets.mnist) is deprecated and will be removed in a future version.\n",
      "Instructions for updating:\n",
      "Please use tf.data to implement this functionality.\n",
      "Extracting /tmp/data/train-images-idx3-ubyte.gz\n",
      "WARNING:tensorflow:From C:\\Users\\asiaynrf\\AppData\\Local\\Continuum\\anaconda2\\envs\\tensorflow3\\lib\\site-packages\\tensorflow\\contrib\\learn\\python\\learn\\datasets\\mnist.py:267: extract_labels (from tensorflow.contrib.learn.python.learn.datasets.mnist) is deprecated and will be removed in a future version.\n",
      "Instructions for updating:\n",
      "Please use tf.data to implement this functionality.\n",
      "Extracting /tmp/data/train-labels-idx1-ubyte.gz\n",
      "Extracting /tmp/data/t10k-images-idx3-ubyte.gz\n",
      "Extracting /tmp/data/t10k-labels-idx1-ubyte.gz\n",
      "WARNING:tensorflow:From C:\\Users\\asiaynrf\\AppData\\Local\\Continuum\\anaconda2\\envs\\tensorflow3\\lib\\site-packages\\tensorflow\\contrib\\learn\\python\\learn\\datasets\\mnist.py:290: DataSet.__init__ (from tensorflow.contrib.learn.python.learn.datasets.mnist) is deprecated and will be removed in a future version.\n",
      "Instructions for updating:\n",
      "Please use alternatives such as official/mnist/dataset.py from tensorflow/models.\n"
     ]
    }
   ],
   "source": [
    "from tensorflow.examples.tutorials.mnist import input_data\n",
    "mnist = input_data.read_data_sets(\"/tmp/data/\")"
   ]
  },
  {
   "cell_type": "markdown",
   "metadata": {},
   "source": [
    "## Setup the datasets, split into train, validation, test"
   ]
  },
  {
   "cell_type": "code",
   "execution_count": 5,
   "metadata": {},
   "outputs": [
    {
     "data": {
      "text/plain": [
       "(55000, 784)"
      ]
     },
     "execution_count": 5,
     "metadata": {},
     "output_type": "execute_result"
    }
   ],
   "source": [
    "train_size, validation_size, test_size = mnist.train.num_examples, mnist.validation.num_examples, mnist.test.num_examples\n",
    "\n",
    "X_train, X_validation, X_test = mnist.train.images, mnist.validation.images, mnist.test.images\n",
    "\n",
    "y_train, y_validation, y_test = mnist.train.labels, mnist.validation.labels, mnist.test.labels\n",
    "\n",
    "X_train.shape"
   ]
  },
  {
   "cell_type": "markdown",
   "metadata": {},
   "source": [
    "Parameter defination"
   ]
  },
  {
   "cell_type": "code",
   "execution_count": 47,
   "metadata": {},
   "outputs": [],
   "source": [
    "\n",
    "\n",
    "# def reshape_image (X):\n",
    "#     return X.reshape ((-1, 28, 28, 1))\n",
    "# X_train, X_validation, X_test = reshape_image (X_train), reshape_image (X_validation), reshape_image (X_test)\n",
    "# X_train.shape"
   ]
  },
  {
   "cell_type": "code",
   "execution_count": 48,
   "metadata": {},
   "outputs": [],
   "source": [
    "# image defination: \n",
    "height, width, channel = 28, 28, 1\n",
    "n_inputs = height * width\n",
    "\n",
    "# Two layers CNN:\n",
    "n_CNN_layers = 2\n",
    "\n",
    "# One layer_DNN: \n",
    "n_fc_layers = 1\n",
    "n_fc = 128\n",
    "n_output = 10"
   ]
  },
  {
   "cell_type": "code",
   "execution_count": 76,
   "metadata": {},
   "outputs": [],
   "source": [
    "reset_graph()\n",
    "with tf.name_scope ('input'):\n",
    "    X = tf.placeholder (tf.float32, shape = [None, n_inputs], name = 'X')\n",
    "    X_reshape = tf.reshape (X, shape = [-1, height, width, channel])\n",
    "    y = tf.placeholder (tf.int32, shape = [None], name = 'Y')\n",
    "\n",
    "with tf.name_scope ('CNN'):\n",
    "    conv1 = tf.layers.conv2d (X_reshape, filters = 32, kernel_size = 3, strides = 1, padding = 'SAME', activation = tf.nn.relu, name = 'Conv1' )\n",
    "    pool1 = tf.nn.max_pool (conv1, ksize = [1, 2, 2, 1], strides = [1, 2, 2, 1], padding = 'VALID', name = 'Pool1')\n",
    "    conv2 = tf.layers.conv2d (pool1, filters = 32, kernel_size = 3, strides = 1, padding = 'SAME', activation = tf.nn.relu, name = 'Conv2' )\n",
    "    pool2 = tf.nn.max_pool (conv2, ksize = [1, 2, 2, 1], strides = [1, 2, 2, 1], padding = 'VALID', name = 'Pool2')\n",
    "\n",
    "with tf.name_scope ('fc1'):\n",
    "    pool2_flat = tf.reshape (pool2, shape = [-1, 7 * 7 * 32])\n",
    "    fc1 = tf.layers.dense (pool2_flat, n_fc, activation = tf.nn.relu, name = 'fc1')\n",
    "\n",
    "with tf.name_scope ('output'):\n",
    "    output = tf.layers.dense (fc1, n_output, name = 'output')\n",
    "    Y_prob = tf.nn.softmax (output, name = 'Y_prob')\n",
    "\n",
    "with tf.name_scope ('train'):\n",
    "    xentropy = tf.nn.sparse_softmax_cross_entropy_with_logits (logits = output, labels = y)\n",
    "    loss = tf.reduce_mean (xentropy)\n",
    "    optimizer = tf.train.GradientDescentOptimizer (learning_rate = 0.01)\n",
    "    training_op = optimizer.minimize (loss)\n",
    "\n",
    "with tf.name_scope ('eval'):\n",
    "    correct = tf.nn.in_top_k (output, y, 1)\n",
    "    accuracy = tf.reduce_mean (tf.cast (correct, tf.float32))"
   ]
  },
  {
   "cell_type": "code",
   "execution_count": 77,
   "metadata": {},
   "outputs": [],
   "source": [
    "with tf.name_scope(\"init_and_save\"):\n",
    "    init = tf.global_variables_initializer()\n",
    "    saver = tf.train.Saver()"
   ]
  },
  {
   "cell_type": "code",
   "execution_count": 78,
   "metadata": {},
   "outputs": [
    {
     "data": {
      "text/plain": [
       "(10, 784)"
      ]
     },
     "execution_count": 78,
     "metadata": {},
     "output_type": "execute_result"
    }
   ],
   "source": [
    "X_train[0:10].shape"
   ]
  },
  {
   "cell_type": "code",
   "execution_count": 97,
   "metadata": {},
   "outputs": [
    {
     "name": "stdout",
     "output_type": "stream",
     "text": [
      "55000 1719 5000\n"
     ]
    }
   ],
   "source": [
    "# Training parameter define\n",
    "import math\n",
    "steps = 10\n",
    "batch_size = 32\n",
    "n_batch = int (math.ceil (train_size / batch_size ))\n",
    "print (train_size, n_batch, validation_size)"
   ]
  },
  {
   "cell_type": "code",
   "execution_count": 99,
   "metadata": {},
   "outputs": [
    {
     "name": "stdout",
     "output_type": "stream",
     "text": [
      "At step  0 the train_score is  1.0 the validation score is  0.9392000079154968 this cost 25.359567165374756\n",
      "At step  1 the train_score is  1.0 the validation score is  0.9639999985694885 this cost 25.29587745666504\n",
      "At step  2 the train_score is  1.0 the validation score is  0.9718000054359436 this cost 25.377333641052246\n",
      "At step  3 the train_score is  1.0 the validation score is  0.9749999880790711 this cost 25.319183588027954\n",
      "At step  4 the train_score is  1.0 the validation score is  0.9777999877929687 this cost 25.314664363861084\n",
      "At step  5 the train_score is  1.0 the validation score is  0.9796000123023987 this cost 25.23270010948181\n",
      "At step  6 the train_score is  1.0 the validation score is  0.9809999942779541 this cost 25.258939504623413\n",
      "At step  7 the train_score is  1.0 the validation score is  0.9825999855995178 this cost 25.567278385162354\n",
      "At step  8 the train_score is  1.0 the validation score is  0.9825999855995178 this cost 25.503719329833984\n",
      "At step  9 the train_score is  1.0 the validation score is  0.9832000017166138 this cost 25.23935317993164\n"
     ]
    },
    {
     "ename": "NameError",
     "evalue": "name 'n_steps' is not defined",
     "output_type": "error",
     "traceback": [
      "\u001b[1;31m---------------------------------------------------------------------------\u001b[0m",
      "\u001b[1;31mNameError\u001b[0m                                 Traceback (most recent call last)",
      "\u001b[1;32m<ipython-input-99-98ea1050054c>\u001b[0m in \u001b[0;36m<module>\u001b[1;34m()\u001b[0m\n\u001b[0;32m     23\u001b[0m     \u001b[1;32mfor\u001b[0m \u001b[0mtest_set\u001b[0m \u001b[1;32min\u001b[0m \u001b[0mrange\u001b[0m \u001b[1;33m(\u001b[0m\u001b[1;36m10\u001b[0m\u001b[1;33m)\u001b[0m\u001b[1;33m:\u001b[0m\u001b[1;33m\u001b[0m\u001b[0m\n\u001b[0;32m     24\u001b[0m         \u001b[0maccuracy_test\u001b[0m \u001b[1;33m+=\u001b[0m \u001b[0maccuracy\u001b[0m\u001b[1;33m.\u001b[0m\u001b[0meval\u001b[0m \u001b[1;33m(\u001b[0m\u001b[0mfeed_dict\u001b[0m \u001b[1;33m=\u001b[0m \u001b[1;33m{\u001b[0m\u001b[0mX\u001b[0m\u001b[1;33m:\u001b[0m \u001b[0mX_test\u001b[0m\u001b[1;33m[\u001b[0m\u001b[0mtest_set\u001b[0m \u001b[1;33m*\u001b[0m \u001b[1;36m1000\u001b[0m\u001b[1;33m:\u001b[0m \u001b[1;33m(\u001b[0m\u001b[0mtest_set\u001b[0m \u001b[1;33m+\u001b[0m \u001b[1;36m1\u001b[0m\u001b[1;33m)\u001b[0m \u001b[1;33m*\u001b[0m \u001b[1;36m1000\u001b[0m\u001b[1;33m]\u001b[0m\u001b[1;33m,\u001b[0m \u001b[0my\u001b[0m\u001b[1;33m:\u001b[0m \u001b[0my_test\u001b[0m\u001b[1;33m[\u001b[0m\u001b[0mtest_set\u001b[0m \u001b[1;33m*\u001b[0m \u001b[1;36m1000\u001b[0m\u001b[1;33m:\u001b[0m \u001b[1;33m(\u001b[0m\u001b[0mtest_set\u001b[0m \u001b[1;33m+\u001b[0m \u001b[1;36m1\u001b[0m\u001b[1;33m)\u001b[0m \u001b[1;33m*\u001b[0m \u001b[1;36m1000\u001b[0m\u001b[1;33m]\u001b[0m\u001b[1;33m}\u001b[0m\u001b[1;33m)\u001b[0m\u001b[1;33m\u001b[0m\u001b[0m\n\u001b[1;32m---> 25\u001b[1;33m     \u001b[0mprint\u001b[0m \u001b[1;33m(\u001b[0m\u001b[1;34m'Run'\u001b[0m\u001b[1;33m,\u001b[0m \u001b[0mn_steps\u001b[0m\u001b[1;33m,\u001b[0m  \u001b[1;34m'steps total process time is'\u001b[0m\u001b[1;33m,\u001b[0m  \u001b[0mtotal_end_time\u001b[0m \u001b[1;33m-\u001b[0m \u001b[0mtotal_start_time\u001b[0m\u001b[1;33m)\u001b[0m\u001b[1;33m\u001b[0m\u001b[0m\n\u001b[0m\u001b[0;32m     26\u001b[0m     \u001b[0mprint\u001b[0m \u001b[1;33m(\u001b[0m\u001b[1;34m'the test set accuracy is'\u001b[0m\u001b[1;33m,\u001b[0m \u001b[0maccuracy_test\u001b[0m \u001b[1;33m/\u001b[0m \u001b[1;36m10.0\u001b[0m\u001b[1;33m)\u001b[0m\u001b[1;33m\u001b[0m\u001b[0m\n",
      "\u001b[1;31mNameError\u001b[0m: name 'n_steps' is not defined"
     ]
    }
   ],
   "source": [
    "import time \n",
    "with tf.Session() as sess:\n",
    "    init.run()\n",
    "    total_start_time = time.time()\n",
    "    for step in range (steps):\n",
    "        validation_score = 0 \n",
    "        start_time = time.time()\n",
    "        for i_batch in range (n_batch):\n",
    "            start = i_batch * batch_size\n",
    "            if i_batch != n_batch - 1:\n",
    "                end = start + batch_size\n",
    "            else:\n",
    "                end = train_size\n",
    "            sess.run (training_op, feed_dict = {X: X_train[start: end], y: y_train[start: end]})\n",
    "        train_score = accuracy.eval (feed_dict = {X: X_train[start: end], y: y_train[start: end]})\n",
    "        for vali_set in range (5):\n",
    "            validation_score += accuracy.eval (feed_dict = {X: X_validation[vali_set * 1000: (vali_set + 1) * 1000], y:y_validation[vali_set * 1000: (vali_set + 1) * 1000]})\n",
    "        end_time = time.time ()\n",
    "        run_time = end_time - start_time\n",
    "        print ('At step ', step, 'the train_score is ', train_score, 'the validation score is ', validation_score/ 5.0, 'this cost', run_time)\n",
    "    total_end_time = time.time ()   \n",
    "    accuracy_test = 0 \n",
    "    for test_set in range (10):\n",
    "        accuracy_test += accuracy.eval (feed_dict = {X: X_test[test_set * 1000: (test_set + 1) * 1000], y: y_test[test_set * 1000: (test_set + 1) * 1000]})\n",
    "    print ('Run', n_steps,  'steps total process time is',  total_end_time - total_start_time)\n",
    "    print ('the test set accuracy is', accuracy_test / 10.0)"
   ]
  },
  {
   "cell_type": "code",
   "execution_count": 19,
   "metadata": {},
   "outputs": [
    {
     "data": {
      "text/plain": [
       "(55000, 784)"
      ]
     },
     "execution_count": 19,
     "metadata": {},
     "output_type": "execute_result"
    }
   ],
   "source": [
    "X_train.shape"
   ]
  },
  {
   "cell_type": "code",
   "execution_count": null,
   "metadata": {},
   "outputs": [],
   "source": []
  }
 ],
 "metadata": {
  "kernelspec": {
   "display_name": "Python 3",
   "language": "python",
   "name": "python3"
  },
  "language_info": {
   "codemirror_mode": {
    "name": "ipython",
    "version": 3
   },
   "file_extension": ".py",
   "mimetype": "text/x-python",
   "name": "python",
   "nbconvert_exporter": "python",
   "pygments_lexer": "ipython3",
   "version": "3.5.5"
  }
 },
 "nbformat": 4,
 "nbformat_minor": 2
}

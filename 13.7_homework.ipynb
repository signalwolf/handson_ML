{
 "cells": [
  {
   "cell_type": "code",
   "execution_count": 2,
   "metadata": {},
   "outputs": [],
   "source": [
    "# To support both python 2 and python 3\n",
    "from __future__ import division, print_function, unicode_literals\n",
    "\n",
    "# Common imports\n",
    "import numpy as np\n",
    "import os\n",
    "\n",
    "# to make this notebook's output stable across runs\n",
    "def reset_graph(seed=42):\n",
    "    tf.reset_default_graph()\n",
    "    tf.set_random_seed(seed)\n",
    "    np.random.seed(seed)\n",
    "\n",
    "# To plot pretty figures\n",
    "%matplotlib inline\n",
    "import matplotlib\n",
    "import matplotlib.pyplot as plt\n",
    "plt.rcParams['axes.labelsize'] = 14\n",
    "plt.rcParams['xtick.labelsize'] = 12\n",
    "plt.rcParams['ytick.labelsize'] = 12\n",
    "\n",
    "# Where to save the figures\n",
    "PROJECT_ROOT_DIR = \".\"\n",
    "CHAPTER_ID = \"cnn\"\n",
    "\n",
    "def save_fig(fig_id, tight_layout=True):\n",
    "    path = os.path.join(PROJECT_ROOT_DIR, \"images\", CHAPTER_ID, fig_id + \".png\")\n",
    "    print(\"Saving figure\", fig_id)\n",
    "    if tight_layout:\n",
    "        plt.tight_layout()\n",
    "    plt.savefig(path, format='png', dpi=300)"
   ]
  },
  {
   "cell_type": "code",
   "execution_count": 3,
   "metadata": {},
   "outputs": [],
   "source": [
    "def plot_image(image):\n",
    "    plt.imshow(image, cmap=\"gray\", interpolation=\"nearest\")\n",
    "    plt.axis(\"off\")\n",
    "\n",
    "def plot_color_image(image):\n",
    "    plt.imshow(image.astype(np.uint8),interpolation=\"nearest\")\n",
    "    plt.axis(\"off\")\n",
    "\n",
    "import tensorflow as tf"
   ]
  },
  {
   "cell_type": "code",
   "execution_count": 4,
   "metadata": {},
   "outputs": [
    {
     "name": "stdout",
     "output_type": "stream",
     "text": [
      "WARNING:tensorflow:From <ipython-input-4-c50d5bb4a85c>:2: read_data_sets (from tensorflow.contrib.learn.python.learn.datasets.mnist) is deprecated and will be removed in a future version.\n",
      "Instructions for updating:\n",
      "Please use alternatives such as official/mnist/dataset.py from tensorflow/models.\n",
      "WARNING:tensorflow:From C:\\Users\\asiaynrf\\AppData\\Local\\Continuum\\anaconda2\\envs\\tensorflow3\\lib\\site-packages\\tensorflow\\contrib\\learn\\python\\learn\\datasets\\mnist.py:260: maybe_download (from tensorflow.contrib.learn.python.learn.datasets.base) is deprecated and will be removed in a future version.\n",
      "Instructions for updating:\n",
      "Please write your own downloading logic.\n",
      "WARNING:tensorflow:From C:\\Users\\asiaynrf\\AppData\\Local\\Continuum\\anaconda2\\envs\\tensorflow3\\lib\\site-packages\\tensorflow\\contrib\\learn\\python\\learn\\datasets\\mnist.py:262: extract_images (from tensorflow.contrib.learn.python.learn.datasets.mnist) is deprecated and will be removed in a future version.\n",
      "Instructions for updating:\n",
      "Please use tf.data to implement this functionality.\n",
      "Extracting /tmp/data/train-images-idx3-ubyte.gz\n",
      "WARNING:tensorflow:From C:\\Users\\asiaynrf\\AppData\\Local\\Continuum\\anaconda2\\envs\\tensorflow3\\lib\\site-packages\\tensorflow\\contrib\\learn\\python\\learn\\datasets\\mnist.py:267: extract_labels (from tensorflow.contrib.learn.python.learn.datasets.mnist) is deprecated and will be removed in a future version.\n",
      "Instructions for updating:\n",
      "Please use tf.data to implement this functionality.\n",
      "Extracting /tmp/data/train-labels-idx1-ubyte.gz\n",
      "Extracting /tmp/data/t10k-images-idx3-ubyte.gz\n",
      "Extracting /tmp/data/t10k-labels-idx1-ubyte.gz\n",
      "WARNING:tensorflow:From C:\\Users\\asiaynrf\\AppData\\Local\\Continuum\\anaconda2\\envs\\tensorflow3\\lib\\site-packages\\tensorflow\\contrib\\learn\\python\\learn\\datasets\\mnist.py:290: DataSet.__init__ (from tensorflow.contrib.learn.python.learn.datasets.mnist) is deprecated and will be removed in a future version.\n",
      "Instructions for updating:\n",
      "Please use alternatives such as official/mnist/dataset.py from tensorflow/models.\n"
     ]
    }
   ],
   "source": [
    "from tensorflow.examples.tutorials.mnist import input_data\n",
    "mnist = input_data.read_data_sets(\"/tmp/data/\")"
   ]
  },
  {
   "cell_type": "markdown",
   "metadata": {},
   "source": [
    "## Setup the datasets, split into train, validation, test"
   ]
  },
  {
   "cell_type": "code",
   "execution_count": 5,
   "metadata": {},
   "outputs": [
    {
     "data": {
      "text/plain": [
       "(55000, 784)"
      ]
     },
     "execution_count": 5,
     "metadata": {},
     "output_type": "execute_result"
    }
   ],
   "source": [
    "train_size, validation_size, test_size = mnist.train.num_examples, mnist.validation.num_examples, mnist.test.num_examples\n",
    "\n",
    "X_train, X_validation, X_test = mnist.train.images, mnist.validation.images, mnist.test.images\n",
    "\n",
    "y_train, y_validation, y_test = mnist.train.labels, mnist.validation.labels, mnist.test.labels\n",
    "\n",
    "X_train.shape"
   ]
  },
  {
   "cell_type": "markdown",
   "metadata": {},
   "source": [
    "Parameter defination"
   ]
  },
  {
   "cell_type": "code",
   "execution_count": 47,
   "metadata": {},
   "outputs": [],
   "source": [
    "\n",
    "\n",
    "# def reshape_image (X):\n",
    "#     return X.reshape ((-1, 28, 28, 1))\n",
    "# X_train, X_validation, X_test = reshape_image (X_train), reshape_image (X_validation), reshape_image (X_test)\n",
    "# X_train.shape"
   ]
  },
  {
   "cell_type": "code",
   "execution_count": 48,
   "metadata": {},
   "outputs": [],
   "source": [
    "# image defination: \n",
    "height, width, channel = 28, 28, 1\n",
    "n_inputs = height * width\n",
    "\n",
    "# Two layers CNN:\n",
    "n_CNN_layers = 2\n",
    "\n",
    "# One layer_DNN: \n",
    "n_fc_layers = 1\n",
    "n_fc = 128\n",
    "n_output = 10"
   ]
  },
  {
   "cell_type": "code",
   "execution_count": 76,
   "metadata": {},
   "outputs": [],
   "source": [
    "reset_graph()\n",
    "with tf.name_scope ('input'):\n",
    "    X = tf.placeholder (tf.float32, shape = [None, n_inputs], name = 'X')\n",
    "    X_reshape = tf.reshape (X, shape = [-1, height, width, channel])\n",
    "    y = tf.placeholder (tf.int32, shape = [None], name = 'Y')\n",
    "\n",
    "with tf.name_scope ('CNN'):\n",
    "    conv1 = tf.layers.conv2d (X_reshape, filters = 32, kernel_size = 3, strides = 1, padding = 'SAME', activation = tf.nn.relu, name = 'Conv1' )\n",
    "    pool1 = tf.nn.max_pool (conv1, ksize = [1, 2, 2, 1], strides = [1, 2, 2, 1], padding = 'VALID', name = 'Pool1')\n",
    "    conv2 = tf.layers.conv2d (pool1, filters = 32, kernel_size = 3, strides = 1, padding = 'SAME', activation = tf.nn.relu, name = 'Conv2' )\n",
    "    pool2 = tf.nn.max_pool (conv2, ksize = [1, 2, 2, 1], strides = [1, 2, 2, 1], padding = 'VALID', name = 'Pool2')\n",
    "\n",
    "with tf.name_scope ('fc1'):\n",
    "    pool2_flat = tf.reshape (pool2, shape = [-1, 7 * 7 * 32])\n",
    "    fc1 = tf.layers.dense (pool2_flat, n_fc, activation = tf.nn.relu, name = 'fc1')\n",
    "\n",
    "with tf.name_scope ('output'):\n",
    "    output = tf.layers.dense (fc1, n_output, name = 'output')\n",
    "    Y_prob = tf.nn.softmax (output, name = 'Y_prob')\n",
    "\n",
    "with tf.name_scope ('train'):\n",
    "    xentropy = tf.nn.sparse_softmax_cross_entropy_with_logits (logits = output, labels = y)\n",
    "    loss = tf.reduce_mean (xentropy)\n",
    "    optimizer = tf.train.GradientDescentOptimizer (learning_rate = 0.01)\n",
    "    training_op = optimizer.minimize (loss)\n",
    "\n",
    "with tf.name_scope ('eval'):\n",
    "    correct = tf.nn.in_top_k (output, y, 1)\n",
    "    accuracy = tf.reduce_mean (tf.cast (correct, tf.float32))"
   ]
  },
  {
   "cell_type": "code",
   "execution_count": 77,
   "metadata": {},
   "outputs": [],
   "source": [
    "with tf.name_scope(\"init_and_save\"):\n",
    "    init = tf.global_variables_initializer()\n",
    "    saver = tf.train.Saver()"
   ]
  },
  {
   "cell_type": "code",
   "execution_count": 78,
   "metadata": {},
   "outputs": [
    {
     "data": {
      "text/plain": [
       "(10, 784)"
      ]
     },
     "execution_count": 78,
     "metadata": {},
     "output_type": "execute_result"
    }
   ],
   "source": [
    "X_train[0:10].shape"
   ]
  },
  {
   "cell_type": "code",
   "execution_count": 101,
   "metadata": {},
   "outputs": [
    {
     "name": "stdout",
     "output_type": "stream",
     "text": [
      "55000 1719 5000\n"
     ]
    }
   ],
   "source": [
    "# Training parameter define\n",
    "import math\n",
    "steps = 20\n",
    "batch_size = 32\n",
    "n_batch = int (math.ceil (train_size / batch_size ))\n",
    "print (train_size, n_batch, validation_size)"
   ]
  },
  {
   "cell_type": "code",
   "execution_count": 102,
   "metadata": {},
   "outputs": [
    {
     "name": "stdout",
     "output_type": "stream",
     "text": [
      "At step  0 the train_score is  1.0 the validation score is  0.9381999969482422 this cost 25.440943479537964\n",
      "At step  1 the train_score is  1.0 the validation score is  0.9648000001907349 this cost 25.2308087348938\n",
      "At step  2 the train_score is  1.0 the validation score is  0.9706000089645386 this cost 25.381755113601685\n",
      "At step  3 the train_score is  1.0 the validation score is  0.9759999990463257 this cost 25.317105770111084\n",
      "At step  4 the train_score is  1.0 the validation score is  0.976800012588501 this cost 25.425941944122314\n",
      "At step  5 the train_score is  1.0 the validation score is  0.9789999961853028 this cost 25.372541189193726\n",
      "At step  6 the train_score is  1.0 the validation score is  0.9810000061988831 this cost 25.399430513381958\n",
      "At step  7 the train_score is  1.0 the validation score is  0.9821999907493592 this cost 25.30058455467224\n",
      "At step  8 the train_score is  1.0 the validation score is  0.9829999923706054 this cost 25.405441522598267\n",
      "At step  9 the train_score is  1.0 the validation score is  0.9837999939918518 this cost 25.45503330230713\n",
      "At step  10 the train_score is  1.0 the validation score is  0.9846000075340271 this cost 25.302900075912476\n",
      "At step  11 the train_score is  1.0 the validation score is  0.9854000091552735 this cost 25.348323345184326\n",
      "At step  12 the train_score is  1.0 the validation score is  0.9861999988555908 this cost 25.63058638572693\n",
      "At step  13 the train_score is  1.0 the validation score is  0.9864000082015991 this cost 25.369572639465332\n",
      "At step  14 the train_score is  1.0 the validation score is  0.9872000098228455 this cost 25.491077661514282\n",
      "At step  15 the train_score is  1.0 the validation score is  0.9871999979019165 this cost 25.33434748649597\n",
      "At step  16 the train_score is  1.0 the validation score is  0.9878000020980835 this cost 25.318711280822754\n",
      "At step  17 the train_score is  1.0 the validation score is  0.9872000098228455 this cost 25.250239849090576\n",
      "At step  18 the train_score is  1.0 the validation score is  0.9866000056266785 this cost 25.21685481071472\n",
      "At step  19 the train_score is  1.0 the validation score is  0.9866000175476074 this cost 25.23405122756958\n",
      "Run 20 steps total process time is 507.22974967956543\n",
      "the test set accuracy is 0.9875\n"
     ]
    }
   ],
   "source": [
    "import time \n",
    "with tf.Session() as sess:\n",
    "    init.run()\n",
    "    total_start_time = time.time()\n",
    "    for step in range (steps):\n",
    "        validation_score = 0 \n",
    "        start_time = time.time()\n",
    "        for i_batch in range (n_batch):\n",
    "            start = i_batch * batch_size\n",
    "            if i_batch != n_batch - 1:\n",
    "                end = start + batch_size\n",
    "            else:\n",
    "                end = train_size\n",
    "            sess.run (training_op, feed_dict = {X: X_train[start: end], y: y_train[start: end]})\n",
    "        train_score = accuracy.eval (feed_dict = {X: X_train[start: end], y: y_train[start: end]})\n",
    "        for vali_set in range (5):\n",
    "            validation_score += accuracy.eval (feed_dict = {X: X_validation[vali_set * 1000: (vali_set + 1) * 1000], y:y_validation[vali_set * 1000: (vali_set + 1) * 1000]})\n",
    "        end_time = time.time ()\n",
    "        run_time = end_time - start_time\n",
    "        print ('At step ', step, 'the train_score is ', train_score, 'the validation score is ', validation_score/ 5.0, 'this cost', run_time)\n",
    "    total_end_time = time.time ()   \n",
    "    accuracy_test = 0 \n",
    "    for test_set in range (10):\n",
    "        accuracy_test += accuracy.eval (feed_dict = {X: X_test[test_set * 1000: (test_set + 1) * 1000], y: y_test[test_set * 1000: (test_set + 1) * 1000]})\n",
    "    print ('Run', steps,  'steps total process time is',  total_end_time - total_start_time)\n",
    "    print ('the test set accuracy is', accuracy_test / 10.0)"
   ]
  },
  {
   "cell_type": "code",
   "execution_count": 19,
   "metadata": {},
   "outputs": [
    {
     "data": {
      "text/plain": [
       "(55000, 784)"
      ]
     },
     "execution_count": 19,
     "metadata": {},
     "output_type": "execute_result"
    }
   ],
   "source": [
    "X_train.shape"
   ]
  },
  {
   "cell_type": "code",
   "execution_count": null,
   "metadata": {},
   "outputs": [],
   "source": []
  }
 ],
 "metadata": {
  "kernelspec": {
   "display_name": "Python 3",
   "language": "python",
   "name": "python3"
  },
  "language_info": {
   "codemirror_mode": {
    "name": "ipython",
    "version": 3
   },
   "file_extension": ".py",
   "mimetype": "text/x-python",
   "name": "python",
   "nbconvert_exporter": "python",
   "pygments_lexer": "ipython3",
   "version": "3.5.5"
  }
 },
 "nbformat": 4,
 "nbformat_minor": 2
}
